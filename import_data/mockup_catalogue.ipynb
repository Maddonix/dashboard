{
 "cells": [
  {
   "cell_type": "code",
   "execution_count": 9,
   "metadata": {},
   "outputs": [],
   "source": [
    "import pandas as pd\n",
    "\n",
    "# product_groups = pd.read_excel(\"08-product_group.xlsx\")\n",
    "product_catalogue = pd.read_excel(\"09-product_catalogue.xlsx\")\n",
    "center_products = pd.read_excel(\"10-center_product.xlsx\")\n",
    "\n",
    "# Import IDS: \n",
    "# 938439529\n",
    "# 954886820\n",
    "# 998049620\n",
    "# 950729263\n",
    "# 11101853\n",
    "# 937407521\n",
    "# 946132308\n",
    "# 950527778\n",
    "# 925566659\n",
    "# 940501355\n",
    "# 943135999\n",
    "\n",
    "\n",
    "LOOKUP_DISTRIBUTION = {\n",
    "    938439529: (100, 10),\n",
    "    954886820: (100, 10),\n",
    "    998049620: (120, 10),\n",
    "    950729263: (200, 10),\n",
    "    11101853: (200, 10),\n",
    "    937407521: (40, 10),\n",
    "    946132308: (150, 10),\n",
    "    950527778: (150, 10),\n",
    "    925566659: (150, 10),\n",
    "    940501355: (8000, 400),\n",
    "    943135999: (4000, 400),\n",
    "}\n",
    "\n",
    "import numpy as np\n",
    "YEARS = [2020, 2021, 2022]\n",
    "\n",
    "# iterate over product catalogue and create new center_product entries for each product in the catalogue for the years 2020 - 2022\n",
    "# get the number of new product_catalogue entries for each product based on a normal distribution (mean and std in LOOKUP_DISTRIBUTION)\n",
    "\n",
    "# product_catalogue.columns:\n",
    "# Index(['import_id', 'name', 'manufacturer_product_id',\n",
    "#        'product_group_import_id', 'product_weight_import_id', 'name_clean',\n",
    "#        'old_import_id', 'old_name', 'manufacturer_import_id'],\n",
    "#       dtype='object')\n",
    "\n",
    "# center_products.columns:\n",
    "# Index(['center_product_doc_id', 'product_doc_runnning_id', 'department_id',\n",
    "#        'product_import_id', 'description', 'date', 'price',\n",
    "#        'product_group_intern', 'center_import_id'],\n",
    "#       dtype='object')\n",
    "\n",
    "\n",
    "# make new empty center_products with same cols as old one\n",
    "records = []\n",
    "\n",
    "r_id = 0\n",
    "\n",
    "for index, row in product_catalogue.iterrows():\n",
    "    product_import_id = row[\"import_id\"]\n",
    "\n",
    "    for year in YEARS:\n",
    "        # get number of new center_products for this product for each year\n",
    "        mean, std = LOOKUP_DISTRIBUTION[product_import_id]\n",
    "        num_new_center_products = int(np.random.normal(mean, std))\n",
    "\n",
    "        for i in range(num_new_center_products):\n",
    "            # get a random center_product\n",
    "            # get a randdom date in the year\n",
    "            _date = pd.Timestamp(year=year, month=7, day=1) + pd.Timedelta(days=np.random.randint(160))\n",
    "\n",
    "            # create new center_product entry\n",
    "            record = {\n",
    "                \"center_product_doc_id\": r_id,\n",
    "                \"product_doc_runnning_id\": 0,\n",
    "                \"department_id\": 0,\n",
    "                \"product_import_id\": product_import_id,\n",
    "                \"description\": \"\",\n",
    "                \"date\": _date,\n",
    "                \"price\": 0,\n",
    "                \"product_group_intern\": \"\",\n",
    "                \"center_import_id\": 1,\n",
    "            }\n",
    "\n",
    "            r_id += 1\n",
    "\n",
    "            records.append(record)\n",
    "\n",
    "\n",
    "\n",
    "mockup_center_products = pd.DataFrame(records)\n",
    "\n",
    "# replace all nan with None\n",
    "mockup_center_products = mockup_center_products.where(pd.notnull(mockup_center_products), None)\n",
    "\n"
   ]
  },
  {
   "cell_type": "code",
   "execution_count": 10,
   "metadata": {},
   "outputs": [],
   "source": [
    "mockup_center_products.to_excel(\"10-center_product.xlsx\", index= False)\n"
   ]
  },
  {
   "cell_type": "code",
   "execution_count": 3,
   "metadata": {},
   "outputs": [
    {
     "data": {
      "text/plain": [
       "Index(['center_product_doc_id', 'product_doc_runnning_id', 'department_id',\n",
       "       'product_import_id', 'description', 'date', 'price',\n",
       "       'product_group_intern', 'center_import_id'],\n",
       "      dtype='object')"
      ]
     },
     "execution_count": 3,
     "metadata": {},
     "output_type": "execute_result"
    }
   ],
   "source": [
    "center_products.columns"
   ]
  },
  {
   "cell_type": "code",
   "execution_count": null,
   "metadata": {},
   "outputs": [],
   "source": []
  }
 ],
 "metadata": {
  "kernelspec": {
   "display_name": "general",
   "language": "python",
   "name": "python3"
  },
  "language_info": {
   "codemirror_mode": {
    "name": "ipython",
    "version": 3
   },
   "file_extension": ".py",
   "mimetype": "text/x-python",
   "name": "python",
   "nbconvert_exporter": "python",
   "pygments_lexer": "ipython3",
   "version": "3.11.3"
  },
  "orig_nbformat": 4
 },
 "nbformat": 4,
 "nbformat_minor": 2
}
